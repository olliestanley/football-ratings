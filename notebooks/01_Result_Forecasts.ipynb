{
 "cells": [
  {
   "cell_type": "markdown",
   "metadata": {},
   "source": [
    "Longer term it would be preferable to download the more detailed match-by-match data for every team with shot counts, and develop a prediction model for the number of shots as well as the overall xG. This would allow a model to predict match results using simulations via Poisson distributions\n",
    "\n",
    "For now, we are working with the less detailed summary data and only have xG total forecasts to work with. So, we will build a simple prediction model for win-draw-loss probabilities based on xG totals"
   ]
  },
  {
   "cell_type": "code",
   "execution_count": 1,
   "metadata": {},
   "outputs": [],
   "source": [
    "import numpy as np\n",
    "from sklearn.linear_model import LogisticRegression\n",
    "from sklearn.metrics import accuracy_score\n",
    "from sklearn.model_selection import cross_val_score\n",
    "from sklearn.model_selection import GridSearchCV, RepeatedStratifiedKFold\n",
    "\n",
    "from autoscout.util import load_csv"
   ]
  },
  {
   "cell_type": "code",
   "execution_count": 2,
   "metadata": {},
   "outputs": [],
   "source": [
    "epl_df = load_csv(\"../data/ratings/epl_2022.csv\")"
   ]
  },
  {
   "cell_type": "markdown",
   "metadata": {},
   "source": [
    "Build an outcome column in [0, 1, 2] denoting [home win, draw, away win]"
   ]
  },
  {
   "cell_type": "code",
   "execution_count": 3,
   "metadata": {},
   "outputs": [],
   "source": [
    "epl_df[\"outcome\"] = np.select(\n",
    "    condlist=[\n",
    "        epl_df[\"home_goals\"] > epl_df[\"away_goals\"],\n",
    "        epl_df[\"home_goals\"] < epl_df[\"away_goals\"]\n",
    "    ],\n",
    "    choicelist=[0, 2],\n",
    "    default=1,\n",
    ")"
   ]
  },
  {
   "cell_type": "code",
   "execution_count": 4,
   "metadata": {},
   "outputs": [
    {
     "data": {
      "text/html": [
       "<div>\n",
       "<style scoped>\n",
       "    .dataframe tbody tr th:only-of-type {\n",
       "        vertical-align: middle;\n",
       "    }\n",
       "\n",
       "    .dataframe tbody tr th {\n",
       "        vertical-align: top;\n",
       "    }\n",
       "\n",
       "    .dataframe thead th {\n",
       "        text-align: right;\n",
       "    }\n",
       "</style>\n",
       "<table border=\"1\" class=\"dataframe\">\n",
       "  <thead>\n",
       "    <tr style=\"text-align: right;\">\n",
       "      <th></th>\n",
       "      <th>date</th>\n",
       "      <th>home_team</th>\n",
       "      <th>home_xg</th>\n",
       "      <th>away_xg</th>\n",
       "      <th>away_team</th>\n",
       "      <th>home_goals</th>\n",
       "      <th>away_goals</th>\n",
       "      <th>home_att_rating</th>\n",
       "      <th>home_def_rating</th>\n",
       "      <th>away_att_rating</th>\n",
       "      <th>away_def_rating</th>\n",
       "      <th>home_pred</th>\n",
       "      <th>away_pred</th>\n",
       "      <th>outcome</th>\n",
       "    </tr>\n",
       "  </thead>\n",
       "  <tbody>\n",
       "    <tr>\n",
       "      <th>0</th>\n",
       "      <td>2021-08-13</td>\n",
       "      <td>Brentford</td>\n",
       "      <td>1.3</td>\n",
       "      <td>1.4</td>\n",
       "      <td>Arsenal</td>\n",
       "      <td>2</td>\n",
       "      <td>0</td>\n",
       "      <td>994.56</td>\n",
       "      <td>997.76</td>\n",
       "      <td>1002.24</td>\n",
       "      <td>1005.44</td>\n",
       "      <td>1.47</td>\n",
       "      <td>1.33</td>\n",
       "      <td>0</td>\n",
       "    </tr>\n",
       "    <tr>\n",
       "      <th>1</th>\n",
       "      <td>2021-08-14</td>\n",
       "      <td>Manchester Utd</td>\n",
       "      <td>1.5</td>\n",
       "      <td>0.6</td>\n",
       "      <td>Leeds United</td>\n",
       "      <td>5</td>\n",
       "      <td>1</td>\n",
       "      <td>1000.96</td>\n",
       "      <td>1023.36</td>\n",
       "      <td>976.64</td>\n",
       "      <td>999.04</td>\n",
       "      <td>1.47</td>\n",
       "      <td>1.33</td>\n",
       "      <td>0</td>\n",
       "    </tr>\n",
       "    <tr>\n",
       "      <th>2</th>\n",
       "      <td>2021-08-14</td>\n",
       "      <td>Watford</td>\n",
       "      <td>1.0</td>\n",
       "      <td>1.2</td>\n",
       "      <td>Aston Villa</td>\n",
       "      <td>3</td>\n",
       "      <td>2</td>\n",
       "      <td>984.96</td>\n",
       "      <td>1004.16</td>\n",
       "      <td>995.84</td>\n",
       "      <td>1015.04</td>\n",
       "      <td>1.47</td>\n",
       "      <td>1.33</td>\n",
       "      <td>0</td>\n",
       "    </tr>\n",
       "    <tr>\n",
       "      <th>3</th>\n",
       "      <td>2021-08-14</td>\n",
       "      <td>Chelsea</td>\n",
       "      <td>0.9</td>\n",
       "      <td>0.3</td>\n",
       "      <td>Crystal Palace</td>\n",
       "      <td>3</td>\n",
       "      <td>0</td>\n",
       "      <td>981.76</td>\n",
       "      <td>1032.96</td>\n",
       "      <td>967.04</td>\n",
       "      <td>1018.24</td>\n",
       "      <td>1.47</td>\n",
       "      <td>1.33</td>\n",
       "      <td>0</td>\n",
       "    </tr>\n",
       "    <tr>\n",
       "      <th>4</th>\n",
       "      <td>2021-08-14</td>\n",
       "      <td>Everton</td>\n",
       "      <td>2.4</td>\n",
       "      <td>0.7</td>\n",
       "      <td>Southampton</td>\n",
       "      <td>3</td>\n",
       "      <td>1</td>\n",
       "      <td>1029.76</td>\n",
       "      <td>1020.16</td>\n",
       "      <td>979.84</td>\n",
       "      <td>970.24</td>\n",
       "      <td>1.47</td>\n",
       "      <td>1.33</td>\n",
       "      <td>0</td>\n",
       "    </tr>\n",
       "  </tbody>\n",
       "</table>\n",
       "</div>"
      ],
      "text/plain": [
       "         date       home_team  home_xg  away_xg       away_team  home_goals  \\\n",
       "0  2021-08-13       Brentford      1.3      1.4         Arsenal           2   \n",
       "1  2021-08-14  Manchester Utd      1.5      0.6    Leeds United           5   \n",
       "2  2021-08-14         Watford      1.0      1.2     Aston Villa           3   \n",
       "3  2021-08-14         Chelsea      0.9      0.3  Crystal Palace           3   \n",
       "4  2021-08-14         Everton      2.4      0.7     Southampton           3   \n",
       "\n",
       "   away_goals  home_att_rating  home_def_rating  away_att_rating  \\\n",
       "0           0           994.56           997.76          1002.24   \n",
       "1           1          1000.96          1023.36           976.64   \n",
       "2           2           984.96          1004.16           995.84   \n",
       "3           0           981.76          1032.96           967.04   \n",
       "4           1          1029.76          1020.16           979.84   \n",
       "\n",
       "   away_def_rating  home_pred  away_pred  outcome  \n",
       "0          1005.44       1.47       1.33        0  \n",
       "1           999.04       1.47       1.33        0  \n",
       "2          1015.04       1.47       1.33        0  \n",
       "3          1018.24       1.47       1.33        0  \n",
       "4           970.24       1.47       1.33        0  "
      ]
     },
     "execution_count": 4,
     "metadata": {},
     "output_type": "execute_result"
    }
   ],
   "source": [
    "epl_df.head()"
   ]
  },
  {
   "cell_type": "markdown",
   "metadata": {},
   "source": [
    "`X` and `y` data - we are not using a test set for now"
   ]
  },
  {
   "cell_type": "code",
   "execution_count": 5,
   "metadata": {},
   "outputs": [],
   "source": [
    "X = epl_df[[\"home_pred\", \"away_pred\"]]\n",
    "y = epl_df[\"outcome\"]"
   ]
  },
  {
   "cell_type": "markdown",
   "metadata": {},
   "source": [
    "We define a cross validation strategy"
   ]
  },
  {
   "cell_type": "code",
   "execution_count": 6,
   "metadata": {},
   "outputs": [],
   "source": [
    "def crossval(model, X_data, y_data) -> np.ndarray:\n",
    "    cross_val = RepeatedStratifiedKFold(n_splits=10, n_repeats=3, random_state=1)\n",
    "    n_scores = cross_val_score(model, X_data, y_data, scoring=\"accuracy\", cv=cross_val, n_jobs=-1)\n",
    "    return n_scores"
   ]
  },
  {
   "cell_type": "markdown",
   "metadata": {},
   "source": [
    "We try using a multiclass logistic regression model from SKLearn first"
   ]
  },
  {
   "cell_type": "code",
   "execution_count": 7,
   "metadata": {},
   "outputs": [
    {
     "name": "stdout",
     "output_type": "stream",
     "text": [
      "Mean Accuracy: 0.533 (0.062)\n"
     ]
    }
   ],
   "source": [
    "logistic_model = LogisticRegression(multi_class='multinomial', solver='lbfgs', penalty='l2', C=0.1)\n",
    "n_scores = crossval(logistic_model, X, y)\n",
    "print(\"Mean Accuracy: %.3f (%.3f)\" % (np.mean(n_scores), np.std(n_scores)))"
   ]
  },
  {
   "cell_type": "markdown",
   "metadata": {},
   "source": [
    "After cross validation shows reasonable results, we fit on the whole dataset"
   ]
  },
  {
   "cell_type": "code",
   "execution_count": 8,
   "metadata": {},
   "outputs": [],
   "source": [
    "logistic_model = LogisticRegression(multi_class='multinomial', solver='lbfgs', penalty='l2', C=0.1).fit(X, y)"
   ]
  },
  {
   "cell_type": "markdown",
   "metadata": {},
   "source": [
    "And evaluate..."
   ]
  },
  {
   "cell_type": "code",
   "execution_count": 9,
   "metadata": {},
   "outputs": [
    {
     "name": "stdout",
     "output_type": "stream",
     "text": [
      "0.5342105263157895\n",
      "[0 2]\n",
      "[[0.43050573 0.24403915 0.32545512]\n",
      " [0.43050573 0.24403915 0.32545512]\n",
      " [0.43050573 0.24403915 0.32545512]\n",
      " ...\n",
      " [0.78095292 0.15436604 0.06468104]\n",
      " [0.7160753  0.18282859 0.10109611]\n",
      " [0.70102009 0.18710881 0.1118711 ]]\n"
     ]
    }
   ],
   "source": [
    "print(accuracy_score(y, logistic_model.predict(X)))\n",
    "print(np.unique(logistic_model.predict(X)))\n",
    "print(logistic_model.predict_proba(X))"
   ]
  },
  {
   "cell_type": "markdown",
   "metadata": {},
   "source": [
    "Not any draw (1) predictions, maybe we can make use of ordinal nature here\n",
    "\n",
    "We define a simple class for building what is effectively an ordinal classifier from any SKLearn classification model"
   ]
  },
  {
   "cell_type": "code",
   "execution_count": 10,
   "metadata": {},
   "outputs": [],
   "source": [
    "from sklearn.base import clone, BaseEstimator, ClassifierMixin\n",
    "\n",
    "class OrdinalClassifier(BaseEstimator, ClassifierMixin):\n",
    "    def __init__(self, clf):\n",
    "        self.clf = clf\n",
    "        self.clfs = {}\n",
    "\n",
    "    def fit(self, X, y):\n",
    "        self.uniques_class = np.sort(np.unique(y))\n",
    "        if self.uniques_class.shape[0] > 2:\n",
    "            for i in range(self.uniques_class.shape[0] - 1):\n",
    "                binary_y = (y > self.uniques_class[1]).astype(np.uint8)\n",
    "                clf = clone(self.clf)\n",
    "                clf.fit(X, binary_y)\n",
    "                self.clfs[i] = clf\n",
    "        return self\n",
    "\n",
    "    def predict(self, X):\n",
    "        return np.argmax(self.predict_proba(X), axis=1)\n",
    "\n",
    "    def predict_proba(self, X):\n",
    "        clfs_predict = {\n",
    "            k: self.clfs[k].predict_proba(X)\n",
    "            for k in self.clfs\n",
    "        }\n",
    "\n",
    "        predicted = []\n",
    "        for i, y in enumerate(self.uniques_class):\n",
    "            if i == 0:\n",
    "                predicted.append(1 - clfs_predict[y][:, 1])\n",
    "            elif y in clfs_predict:\n",
    "                predicted.append(clfs_predict[y - 1][:, 1] - clfs_predict[y][:, 1])\n",
    "            else:\n",
    "                predicted.append(clfs_predict[y - 1][:, 1])\n",
    "\n",
    "        return np.vstack(predicted).T"
   ]
  },
  {
   "cell_type": "markdown",
   "metadata": {},
   "source": [
    "We use `OrdinalClassifier` with logistic regression"
   ]
  },
  {
   "cell_type": "code",
   "execution_count": 11,
   "metadata": {},
   "outputs": [],
   "source": [
    "ordinal_model = OrdinalClassifier(LogisticRegression(multi_class='multinomial', solver='lbfgs', penalty='l2', C=0.1)).fit(X, y)"
   ]
  },
  {
   "cell_type": "markdown",
   "metadata": {},
   "source": [
    "And evaluate..."
   ]
  },
  {
   "cell_type": "code",
   "execution_count": 12,
   "metadata": {},
   "outputs": [
    {
     "name": "stdout",
     "output_type": "stream",
     "text": [
      "0.5078947368421053\n",
      "[0 2]\n",
      "[[0.67945569 0.         0.32054431]\n",
      " [0.67945569 0.         0.32054431]\n",
      " [0.67945569 0.         0.32054431]\n",
      " ...\n",
      " [0.93650124 0.         0.06349876]\n",
      " [0.90242217 0.         0.09757783]\n",
      " [0.89169237 0.         0.10830763]]\n"
     ]
    }
   ],
   "source": [
    "print(accuracy_score(y, ordinal_model.predict(X)))\n",
    "print(np.unique(ordinal_model.predict(X)))\n",
    "print(ordinal_model.predict_proba(X))"
   ]
  },
  {
   "cell_type": "markdown",
   "metadata": {},
   "source": [
    "Does not seem to help with the lack of draw predictions - in fact it seems to have made them worse. These predictions also seem to massively favour home teams\n",
    "\n",
    "We will try oversampling draws using SMOTE"
   ]
  },
  {
   "cell_type": "code",
   "execution_count": 13,
   "metadata": {},
   "outputs": [],
   "source": [
    "from imblearn.over_sampling import SMOTE\n",
    "\n",
    "resampler = SMOTE(random_state=1)\n",
    "X_res, y_res = resampler.fit_resample(X, y)"
   ]
  },
  {
   "cell_type": "markdown",
   "metadata": {},
   "source": [
    "Now we go back to the logistic regression model using the resampled data"
   ]
  },
  {
   "cell_type": "code",
   "execution_count": 14,
   "metadata": {},
   "outputs": [],
   "source": [
    "logistic_res_model = LogisticRegression(multi_class='multinomial', solver='lbfgs', penalty='l2', C=0.1).fit(X_res, y_res)"
   ]
  },
  {
   "cell_type": "markdown",
   "metadata": {},
   "source": [
    "And evaluate, noting that we fit with the resampled data but evaluate on the original data..."
   ]
  },
  {
   "cell_type": "code",
   "execution_count": 15,
   "metadata": {},
   "outputs": [
    {
     "name": "stdout",
     "output_type": "stream",
     "text": [
      "0.49736842105263157\n",
      "[0 1 2]\n",
      "[[0.33309589 0.35105453 0.31584958]\n",
      " [0.33309589 0.35105453 0.31584958]\n",
      " [0.33309589 0.35105453 0.31584958]\n",
      " ...\n",
      " [0.69336283 0.24267769 0.06395949]\n",
      " [0.61730144 0.28278115 0.0999174 ]\n",
      " [0.60284066 0.28638433 0.11077501]]\n"
     ]
    }
   ],
   "source": [
    "print(accuracy_score(y, logistic_res_model.predict(X)))\n",
    "print(np.unique(logistic_res_model.predict(X)))\n",
    "print(logistic_res_model.predict_proba(X))"
   ]
  },
  {
   "cell_type": "markdown",
   "metadata": {},
   "source": [
    "Accuracy is slightly down on the original model but the distribution looks a bit better initially\n",
    "\n",
    "Next we try the ordinal model with the resampled data"
   ]
  },
  {
   "cell_type": "code",
   "execution_count": 16,
   "metadata": {},
   "outputs": [],
   "source": [
    "ordinal_res_model = OrdinalClassifier(LogisticRegression(multi_class='multinomial', solver='lbfgs', penalty='l2', C=0.1)).fit(X_res, y_res)"
   ]
  },
  {
   "cell_type": "markdown",
   "metadata": {},
   "source": [
    "And evaluate on the original data..."
   ]
  },
  {
   "cell_type": "code",
   "execution_count": 17,
   "metadata": {},
   "outputs": [
    {
     "name": "stdout",
     "output_type": "stream",
     "text": [
      "0.5052631578947369\n",
      "[0 2]\n",
      "[[0.69009269 0.         0.30990731]\n",
      " [0.69009269 0.         0.30990731]\n",
      " [0.69009269 0.         0.30990731]\n",
      " ...\n",
      " [0.93733837 0.         0.06266163]\n",
      " [0.90445499 0.         0.09554501]\n",
      " [0.89362737 0.         0.10637263]]\n"
     ]
    }
   ],
   "source": [
    "print(accuracy_score(y, ordinal_res_model.predict(X)))\n",
    "print(np.unique(ordinal_res_model.predict(X)))\n",
    "print(ordinal_res_model.predict_proba(X))"
   ]
  },
  {
   "cell_type": "markdown",
   "metadata": {},
   "source": [
    "The ordinal model does not seem to benefit, so the logistic regression seems preferable\n",
    "\n",
    "However, oversampling seems to result in draw probabilities which are too high and reduce overall accuracy\n",
    "\n",
    "For now, we will use the predictions from the original logistic regression but more research would be useful here\n",
    "\n",
    "To finish we will convert the result forecast to xPts"
   ]
  },
  {
   "cell_type": "code",
   "execution_count": 18,
   "metadata": {},
   "outputs": [],
   "source": [
    "epl_df[[\"home_prob\", \"draw_prob\", \"away_prob\"]] = logistic_model.predict_proba(X)\n",
    "epl_df[\"home_xpts\"] = (3 * epl_df[\"home_prob\"] + 1 * epl_df[\"draw_prob\"])\n",
    "epl_df[\"away_xpts\"] = (3 * epl_df[\"away_prob\"] + 1 * epl_df[\"draw_prob\"])\n",
    "epl_df.to_csv(\"../data/preds/epl_2022.csv\", index=False)"
   ]
  }
 ],
 "metadata": {
  "kernelspec": {
   "display_name": "Python 3.10.5 ('venv': venv)",
   "language": "python",
   "name": "python3"
  },
  "language_info": {
   "codemirror_mode": {
    "name": "ipython",
    "version": 3
   },
   "file_extension": ".py",
   "mimetype": "text/x-python",
   "name": "python",
   "nbconvert_exporter": "python",
   "pygments_lexer": "ipython3",
   "version": "3.10.5"
  },
  "orig_nbformat": 4,
  "vscode": {
   "interpreter": {
    "hash": "05dd16b0c1c8d575bdc3d1cc3d36c32266e6e530b412d1e36e05ca7b9111c666"
   }
  }
 },
 "nbformat": 4,
 "nbformat_minor": 2
}
