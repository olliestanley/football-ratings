{
 "cells": [
  {
   "cell_type": "code",
   "execution_count": 1,
   "metadata": {},
   "outputs": [],
   "source": [
    "from datetime import date\n",
    "import warnings\n",
    "warnings.filterwarnings(\"ignore\")\n",
    "\n",
    "import pandas as pd\n",
    "from autoscout import preprocess\n",
    "from autoscout.util import load_csv\n",
    "\n",
    "from ratings.team import RatingSystem"
   ]
  },
  {
   "cell_type": "markdown",
   "metadata": {},
   "source": [
    "Load the match summary data\n",
    "\n",
    "Competition scorelines and expected goals data can be downloaded from [fbref](https://fbref.com) using [autoscout](https://github.com/olliestanley/autoscout/)"
   ]
  },
  {
   "cell_type": "code",
   "execution_count": 2,
   "metadata": {},
   "outputs": [],
   "source": [
    "# Each season DataFrame separately\n",
    "dfs = [\n",
    "    load_csv(f\"data/raw/epl_{season}_matches.csv\")\n",
    "    for season in [2021, 2022, 2023]\n",
    "]\n",
    "\n",
    "# Overall DataFrame\n",
    "df = preprocess.combine_data(dfs).dropna(axis=0, how=\"any\")\n",
    "df = df[~df[\"referee\"].str.contains(\"0\")].reset_index(drop=True)\n",
    "df[[\"home_goals\", \"away_goals\"]] = df[\"score\"].str.split(\"–\", expand=True)"
   ]
  },
  {
   "cell_type": "markdown",
   "metadata": {},
   "source": [
    "Develop a rating system"
   ]
  },
  {
   "cell_type": "code",
   "execution_count": 3,
   "metadata": {},
   "outputs": [],
   "source": [
    "def ratings(\n",
    "    data: pd.DataFrame,\n",
    "    k: int,\n",
    "    baseline: float,\n",
    "    home_advantage: float,\n",
    "    default_rating: float,\n",
    ") -> RatingSystem:\n",
    "    system = RatingSystem(k, baseline, home_advantage, default_rating)\n",
    "    system.process_dataset(data)\n",
    "    system.fit_forecast_model(data)\n",
    "    system.forecast_dataset(data)\n",
    "    return system"
   ]
  },
  {
   "cell_type": "markdown",
   "metadata": {},
   "source": [
    "Different systems tracking performance over different time scales"
   ]
  },
  {
   "cell_type": "code",
   "execution_count": 4,
   "metadata": {},
   "outputs": [],
   "source": [
    "baseline = 2.8\n",
    "home_advantage = 0.06\n",
    "\n",
    "system = ratings(df, 64, baseline, home_advantage, 1000)"
   ]
  },
  {
   "cell_type": "markdown",
   "metadata": {},
   "source": [
    "Use the system to predict"
   ]
  },
  {
   "cell_type": "code",
   "execution_count": 5,
   "metadata": {},
   "outputs": [],
   "source": [
    "def predict_match_as_of(df, system, home_team, away_team, date_str):\n",
    "    home_att, home_def = system.get_team_ratings_before_date(\n",
    "        df, home_team, date_str\n",
    "    )\n",
    "\n",
    "    away_att, away_def = system.get_team_ratings_before_date(\n",
    "        df, away_team, date_str\n",
    "    )\n",
    "\n",
    "    home_pred, away_pred = system.predict_match_from_ratings(\n",
    "        home_att, home_def, away_att, away_def\n",
    "    )\n",
    "\n",
    "    return home_pred, away_pred"
   ]
  },
  {
   "cell_type": "code",
   "execution_count": 6,
   "metadata": {},
   "outputs": [],
   "source": [
    "# Change these values to alter the match to predict\n",
    "home_team = \"Manchester Utd\"\n",
    "away_team = \"Brighton\"\n",
    "date_str = str(date.today())"
   ]
  },
  {
   "cell_type": "markdown",
   "metadata": {},
   "source": [
    "Predict results based on long term performance"
   ]
  },
  {
   "cell_type": "code",
   "execution_count": 7,
   "metadata": {},
   "outputs": [
    {
     "name": "stdout",
     "output_type": "stream",
     "text": [
      "\n",
      "Predicted xG: Manchester Utd 1.36 - 1.43 Brighton\n",
      "Win Probabilities: Manchester Utd 0.347 - Draw 0.252 - Brighton 0.401\n"
     ]
    }
   ],
   "source": [
    "# Predict and output results\n",
    "home_pred, away_pred = predict_match_as_of(df, system, home_team, away_team, date_str)\n",
    "print(f\"\\nPredicted xG: {home_team} {round(home_pred, 2)} - {round(away_pred, 2)} {away_team}\")\n",
    "home_prob, draw_prob, away_prob = system.forecast_match_from_predictions(home_pred, away_pred)[0]\n",
    "print(f\"Win Probabilities: {home_team} {round(home_prob, 3)} - Draw {round(draw_prob, 3)} - {away_team} {round(away_prob, 3)}\")"
   ]
  }
 ],
 "metadata": {
  "kernelspec": {
   "display_name": "Python 3.10.5 ('venv': venv)",
   "language": "python",
   "name": "python3"
  },
  "language_info": {
   "codemirror_mode": {
    "name": "ipython",
    "version": 3
   },
   "file_extension": ".py",
   "mimetype": "text/x-python",
   "name": "python",
   "nbconvert_exporter": "python",
   "pygments_lexer": "ipython3",
   "version": "3.10.5"
  },
  "orig_nbformat": 4,
  "vscode": {
   "interpreter": {
    "hash": "05dd16b0c1c8d575bdc3d1cc3d36c32266e6e530b412d1e36e05ca7b9111c666"
   }
  }
 },
 "nbformat": 4,
 "nbformat_minor": 2
}
