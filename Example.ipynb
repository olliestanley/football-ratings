{
 "cells": [
  {
   "cell_type": "markdown",
   "metadata": {},
   "source": [
    "## Team Ratings\n",
    "\n",
    "Build team ratings by updating an Elo-based system over 2+ seasons of Premier League data"
   ]
  },
  {
   "cell_type": "code",
   "execution_count": 1,
   "metadata": {},
   "outputs": [],
   "source": [
    "from datetime import date\n",
    "from typing import Tuple\n",
    "import warnings\n",
    "warnings.filterwarnings(\"ignore\")\n",
    "\n",
    "import pandas as pd\n",
    "from autoscout import preprocess\n",
    "from autoscout.util import load_csv\n",
    "\n",
    "from ratings.team import RatingSystem"
   ]
  },
  {
   "cell_type": "markdown",
   "metadata": {},
   "source": [
    "Load the match summary data\n",
    "\n",
    "Competition scorelines and expected goals data can be downloaded from [fbref](https://fbref.com) using [autoscout](https://github.com/olliestanley/autoscout/)\n",
    "\n",
    "Some matches for the current season have not been played yet so we filter these out by removing any matches which do not have a `referee` listed. We also split the `score` column into two separate ones, namely `home_goals` and `away_goals`"
   ]
  },
  {
   "cell_type": "code",
   "execution_count": 2,
   "metadata": {},
   "outputs": [],
   "source": [
    "# Each season DataFrame separately\n",
    "dfs = [\n",
    "    load_csv(f\"data/raw/epl_{season}_matches.csv\")\n",
    "    for season in [2021, 2022, 2023]\n",
    "]\n",
    "\n",
    "# Overall DataFrame\n",
    "df = preprocess.combine_data(dfs).dropna(axis=0, how=\"any\")\n",
    "df = df[~df[\"referee\"].str.contains(\"0\")].reset_index(drop=True)\n",
    "df[[\"home_goals\", \"away_goals\"]] = df[\"score\"].str.split(\"–\", expand=True)"
   ]
  },
  {
   "cell_type": "markdown",
   "metadata": {},
   "source": [
    "Develop a rating system using the code provided in `ratings.team`\n",
    "\n",
    "This will update the ratings for all matches in the dataset, and fit a forecasting model to generate win, draw, and loss probabilities from a match prediction"
   ]
  },
  {
   "cell_type": "code",
   "execution_count": 3,
   "metadata": {},
   "outputs": [],
   "source": [
    "def ratings(\n",
    "    data: pd.DataFrame,\n",
    "    k: int,\n",
    "    baseline: float,\n",
    "    home_advantage: float,\n",
    "    default_rating: float,\n",
    ") -> RatingSystem:\n",
    "    system = RatingSystem(k, baseline, home_advantage, default_rating)\n",
    "    system.process_dataset(data)\n",
    "    system.fit_forecast_model(data)\n",
    "    system.forecast_dataset(data)\n",
    "    return system"
   ]
  },
  {
   "cell_type": "markdown",
   "metadata": {},
   "source": [
    "Define the parameters for the system and create it - these may not be the optimal parameters but I have found them to produce reasonable results\n",
    "\n",
    "Higher `k` values cause the ratings to place more weight on recent matches\n",
    "\n",
    "Higher `baseline` values cause the system to overall predict higher scores (more total goals in a game)\n",
    "\n",
    "Higher `home_advantage` values cause predictions to be more generous to home teams, which can also alter ratings as these are determined by difference between expected and real performance"
   ]
  },
  {
   "cell_type": "code",
   "execution_count": 4,
   "metadata": {},
   "outputs": [],
   "source": [
    "k = 64\n",
    "baseline = 2.8\n",
    "home_advantage = 0.06\n",
    "\n",
    "system = ratings(df, k, baseline, home_advantage, 1000)"
   ]
  },
  {
   "cell_type": "markdown",
   "metadata": {},
   "source": [
    "Define a function to predict a match using a given `DataFrame`, `RatingSystem`, teams, and date"
   ]
  },
  {
   "cell_type": "code",
   "execution_count": 5,
   "metadata": {},
   "outputs": [],
   "source": [
    "def predict_match_as_of(\n",
    "    df: pd.DataFrame, system: RatingSystem, home_team: str, away_team: str, date_str: str\n",
    ") -> Tuple[float, float]:\n",
    "    home_att, home_def = system.get_team_ratings_before_date(\n",
    "        df, home_team, date_str\n",
    "    )\n",
    "\n",
    "    away_att, away_def = system.get_team_ratings_before_date(\n",
    "        df, away_team, date_str\n",
    "    )\n",
    "\n",
    "    return system.predict_match_from_ratings(\n",
    "        home_att, home_def, away_att, away_def\n",
    "    )"
   ]
  },
  {
   "cell_type": "markdown",
   "metadata": {},
   "source": [
    "Specify the teams and date to predict - change this cell to predict a different match\n",
    "\n",
    "If manually inputting dates, use the format \"YYYY-MM-DD\""
   ]
  },
  {
   "cell_type": "code",
   "execution_count": 6,
   "metadata": {},
   "outputs": [],
   "source": [
    "home_team = \"Manchester Utd\"\n",
    "away_team = \"Brighton\"\n",
    "date_str = str(date.today())"
   ]
  },
  {
   "cell_type": "markdown",
   "metadata": {},
   "source": [
    "Predict results based on the system created and turn the predictions into result probabilities"
   ]
  },
  {
   "cell_type": "code",
   "execution_count": 7,
   "metadata": {},
   "outputs": [
    {
     "name": "stdout",
     "output_type": "stream",
     "text": [
      "\n",
      "Predicted xG: Manchester Utd 1.36 - 1.43 Brighton\n",
      "Win Probabilities: Manchester Utd 0.347 - Draw 0.252 - Brighton 0.401\n"
     ]
    }
   ],
   "source": [
    "# Predict and output results\n",
    "home_pred, away_pred = predict_match_as_of(df, system, home_team, away_team, date_str)\n",
    "print(f\"\\nPredicted xG: {home_team} {round(home_pred, 2)} - {round(away_pred, 2)} {away_team}\")\n",
    "home_prob, draw_prob, away_prob = system.forecast_match_from_predictions(home_pred, away_pred)[0]\n",
    "print(f\"Probabilities: {home_team} {round(home_prob, 3)} - Draw {round(draw_prob, 3)} - {away_team} {round(away_prob, 3)}\")"
   ]
  },
  {
   "cell_type": "markdown",
   "metadata": {},
   "source": [
    "Done!"
   ]
  }
 ],
 "metadata": {
  "kernelspec": {
   "display_name": "Python 3.10.5 ('venv': venv)",
   "language": "python",
   "name": "python3"
  },
  "language_info": {
   "codemirror_mode": {
    "name": "ipython",
    "version": 3
   },
   "file_extension": ".py",
   "mimetype": "text/x-python",
   "name": "python",
   "nbconvert_exporter": "python",
   "pygments_lexer": "ipython3",
   "version": "3.10.5"
  },
  "orig_nbformat": 4,
  "vscode": {
   "interpreter": {
    "hash": "05dd16b0c1c8d575bdc3d1cc3d36c32266e6e530b412d1e36e05ca7b9111c666"
   }
  }
 },
 "nbformat": 4,
 "nbformat_minor": 2
}
